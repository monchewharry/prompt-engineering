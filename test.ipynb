{
 "cells": [
  {
   "cell_type": "code",
   "execution_count": 3,
   "metadata": {},
   "outputs": [],
   "source": [
    "from dotenv import load_dotenv \n",
    "from openai import OpenAI\n",
    "load_dotenv()\n",
    "client = OpenAI()"
   ]
  },
  {
   "cell_type": "markdown",
   "metadata": {},
   "source": [
    "## text generation/chat"
   ]
  },
  {
   "cell_type": "code",
   "execution_count": 4,
   "metadata": {},
   "outputs": [],
   "source": [
    "completion = client.chat.completions.create(\n",
    "    model=\"gpt-4o-mini\",\n",
    "    messages=[\n",
    "        {\"role\": \"system\", \"content\": \"You are a helpful assistant.\"},\n",
    "        {\n",
    "            \"role\": \"user\",\n",
    "            \"content\": \"which city is China's Capital?\"\n",
    "        }\n",
    "    ]\n",
    ")"
   ]
  },
  {
   "cell_type": "code",
   "execution_count": 5,
   "metadata": {},
   "outputs": [
    {
     "name": "stdout",
     "output_type": "stream",
     "text": [
      "ChatCompletionMessage(content='The capital of China is Beijing.', refusal=None, role='assistant', function_call=None, tool_calls=None)\n"
     ]
    }
   ],
   "source": [
    "print(completion.choices[0].message)"
   ]
  },
  {
   "cell_type": "markdown",
   "metadata": {},
   "source": [
    "### Returned object\n",
    "\n",
    "- Type of `ChatCompletion`\n",
    "- https://platform.openai.com/docs/api-reference/chat/object"
   ]
  },
  {
   "cell_type": "code",
   "execution_count": 13,
   "metadata": {},
   "outputs": [
    {
     "data": {
      "text/plain": [
       "openai.types.chat.chat_completion.ChatCompletion"
      ]
     },
     "execution_count": 13,
     "metadata": {},
     "output_type": "execute_result"
    }
   ],
   "source": [
    "type(completion)"
   ]
  },
  {
   "cell_type": "code",
   "execution_count": 15,
   "metadata": {},
   "outputs": [
    {
     "name": "stdout",
     "output_type": "stream",
     "text": [
      "id:\n",
      "  chatcmpl-AJDBs7ryJnfpfJDLg6xg2F9FFn0RD\n",
      "choices:\n",
      "  [0]:\n",
      "    finish_reason:\n",
      "      stop\n",
      "    index:\n",
      "      0\n",
      "    logprobs:\n",
      "      None\n",
      "    message:\n",
      "      content:\n",
      "        The capital of China is Beijing.\n",
      "      refusal:\n",
      "        None\n",
      "      role:\n",
      "        assistant\n",
      "      function_call:\n",
      "        None\n",
      "      tool_calls:\n",
      "        None\n",
      "created:\n",
      "  1729142300\n",
      "model:\n",
      "  gpt-4o-mini-2024-07-18\n",
      "object:\n",
      "  chat.completion\n",
      "service_tier:\n",
      "  None\n",
      "system_fingerprint:\n",
      "  fp_e2bde53e6e\n",
      "usage:\n",
      "  completion_tokens:\n",
      "    7\n",
      "  prompt_tokens:\n",
      "    23\n",
      "  total_tokens:\n",
      "    30\n",
      "  completion_tokens_details:\n",
      "    audio_tokens:\n",
      "      None\n",
      "    reasoning_tokens:\n",
      "      0\n",
      "  prompt_tokens_details:\n",
      "    audio_tokens:\n",
      "      None\n",
      "    cached_tokens:\n",
      "      0\n",
      "_request_id:\n",
      "  req_ed3d3ebdbc6c119a6eb99185f09b34fd\n"
     ]
    }
   ],
   "source": [
    "from testUtils import print_properties\n",
    "print_properties(completion)"
   ]
  },
  {
   "cell_type": "code",
   "execution_count": 9,
   "metadata": {},
   "outputs": [
    {
     "name": "stdout",
     "output_type": "stream",
     "text": [
      "{\n",
      "  \"id\": \"chatcmpl-AJDBs7ryJnfpfJDLg6xg2F9FFn0RD\",\n",
      "  \"choices\": [\n",
      "    {\n",
      "      \"finish_reason\": \"stop\",\n",
      "      \"index\": 0,\n",
      "      \"logprobs\": null,\n",
      "      \"message\": {\n",
      "        \"content\": \"The capital of China is Beijing.\",\n",
      "        \"refusal\": null,\n",
      "        \"role\": \"assistant\"\n",
      "      }\n",
      "    }\n",
      "  ],\n",
      "  \"created\": 1729142300,\n",
      "  \"model\": \"gpt-4o-mini-2024-07-18\",\n",
      "  \"object\": \"chat.completion\",\n",
      "  \"system_fingerprint\": \"fp_e2bde53e6e\",\n",
      "  \"usage\": {\n",
      "    \"completion_tokens\": 7,\n",
      "    \"prompt_tokens\": 23,\n",
      "    \"total_tokens\": 30,\n",
      "    \"completion_tokens_details\": {\n",
      "      \"reasoning_tokens\": 0\n",
      "    },\n",
      "    \"prompt_tokens_details\": {\n",
      "      \"cached_tokens\": 0\n",
      "    }\n",
      "  }\n",
      "}\n"
     ]
    }
   ],
   "source": [
    "import json\n",
    "completion_dict = completion.to_dict()\n",
    "print(json.dumps(completion_dict, indent=2))"
   ]
  },
  {
   "cell_type": "code",
   "execution_count": null,
   "metadata": {},
   "outputs": [],
   "source": []
  }
 ],
 "metadata": {
  "kernelspec": {
   "display_name": "openai",
   "language": "python",
   "name": "python3"
  },
  "language_info": {
   "codemirror_mode": {
    "name": "ipython",
    "version": 3
   },
   "file_extension": ".py",
   "mimetype": "text/x-python",
   "name": "python",
   "nbconvert_exporter": "python",
   "pygments_lexer": "ipython3",
   "version": "3.9.20"
  }
 },
 "nbformat": 4,
 "nbformat_minor": 2
}
