{
 "cells": [
  {
   "cell_type": "code",
   "execution_count": 1,
   "metadata": {},
   "outputs": [],
   "source": [
    "from dotenv import load_dotenv \n",
    "from openai import OpenAI\n",
    "from testUtils import print_properties, save_pickle,load_pickle,num_tokens_from_messages\n",
    "load_dotenv()\n",
    "client = OpenAI()\n",
    "selectedGPTmodel = \"gpt-4o-mini\"\n",
    "messages = [\n",
    "    {\"role\": \"system\", \"content\": \"You are a helpful assistant.\"},\n",
    "    {\"role\": \"user\", \"content\": \"Which city is China's capital?\"}\n",
    "]"
   ]
  },
  {
   "cell_type": "markdown",
   "metadata": {},
   "source": [
    "## text generation/chat\n",
    "https://platform.openai.com/docs/guides/text-generation/quickstart"
   ]
  },
  {
   "cell_type": "markdown",
   "metadata": {},
   "source": [
    "```python\n",
    "completion = client.chat.completions.create(\n",
    "    model=selectedGPTmodel,\n",
    "    messages= messages\n",
    ")\n",
    "\n",
    "save_pickle(completion,'completion-test1.pkl')\n",
    "```"
   ]
  },
  {
   "cell_type": "code",
   "execution_count": 2,
   "metadata": {},
   "outputs": [
    {
     "name": "stdout",
     "output_type": "stream",
     "text": [
      "ChatCompletionMessage(content='The capital of China is Beijing.', refusal=None, role='assistant', function_call=None, tool_calls=None)\n"
     ]
    }
   ],
   "source": [
    "completion = load_pickle('completion-test1.pkl')\n",
    "print(completion.choices[0].message)"
   ]
  },
  {
   "cell_type": "markdown",
   "metadata": {},
   "source": [
    "### Returned object\n",
    "\n",
    "- Type of `ChatCompletion`\n",
    "- https://platform.openai.com/docs/api-reference/chat/object"
   ]
  },
  {
   "cell_type": "code",
   "execution_count": 3,
   "metadata": {},
   "outputs": [
    {
     "data": {
      "text/plain": [
       "openai.types.chat.chat_completion.ChatCompletion"
      ]
     },
     "execution_count": 3,
     "metadata": {},
     "output_type": "execute_result"
    }
   ],
   "source": [
    "type(completion)"
   ]
  },
  {
   "cell_type": "code",
   "execution_count": 4,
   "metadata": {},
   "outputs": [
    {
     "name": "stdout",
     "output_type": "stream",
     "text": [
      "id:\n",
      "  chatcmpl-AJDBs7ryJnfpfJDLg6xg2F9FFn0RD\n",
      "choices:\n",
      "  [0]:\n",
      "    finish_reason:\n",
      "      stop\n",
      "    index:\n",
      "      0\n",
      "    logprobs:\n",
      "      None\n",
      "    message:\n",
      "      content:\n",
      "        The capital of China is Beijing.\n",
      "      refusal:\n",
      "        None\n",
      "      role:\n",
      "        assistant\n",
      "      function_call:\n",
      "        None\n",
      "      tool_calls:\n",
      "        None\n",
      "created:\n",
      "  1729142300\n",
      "model:\n",
      "  gpt-4o-mini-2024-07-18\n",
      "object:\n",
      "  chat.completion\n",
      "service_tier:\n",
      "  None\n",
      "system_fingerprint:\n",
      "  fp_e2bde53e6e\n",
      "usage:\n",
      "  completion_tokens:\n",
      "    7\n",
      "  prompt_tokens:\n",
      "    23\n",
      "  total_tokens:\n",
      "    30\n",
      "  completion_tokens_details:\n",
      "    audio_tokens:\n",
      "      None\n",
      "    reasoning_tokens:\n",
      "      0\n",
      "  prompt_tokens_details:\n",
      "    audio_tokens:\n",
      "      None\n",
      "    cached_tokens:\n",
      "      0\n",
      "_request_id:\n",
      "  req_ed3d3ebdbc6c119a6eb99185f09b34fd\n"
     ]
    }
   ],
   "source": [
    "print_properties(completion)"
   ]
  },
  {
   "cell_type": "code",
   "execution_count": 5,
   "metadata": {},
   "outputs": [
    {
     "name": "stdout",
     "output_type": "stream",
     "text": [
      "{\n",
      "  \"id\": \"chatcmpl-AJDBs7ryJnfpfJDLg6xg2F9FFn0RD\",\n",
      "  \"choices\": [\n",
      "    {\n",
      "      \"finish_reason\": \"stop\",\n",
      "      \"index\": 0,\n",
      "      \"logprobs\": null,\n",
      "      \"message\": {\n",
      "        \"content\": \"The capital of China is Beijing.\",\n",
      "        \"refusal\": null,\n",
      "        \"role\": \"assistant\"\n",
      "      }\n",
      "    }\n",
      "  ],\n",
      "  \"created\": 1729142300,\n",
      "  \"model\": \"gpt-4o-mini-2024-07-18\",\n",
      "  \"object\": \"chat.completion\",\n",
      "  \"system_fingerprint\": \"fp_e2bde53e6e\",\n",
      "  \"usage\": {\n",
      "    \"completion_tokens\": 7,\n",
      "    \"prompt_tokens\": 23,\n",
      "    \"total_tokens\": 30,\n",
      "    \"completion_tokens_details\": {\n",
      "      \"reasoning_tokens\": 0\n",
      "    },\n",
      "    \"prompt_tokens_details\": {\n",
      "      \"cached_tokens\": 0\n",
      "    }\n",
      "  }\n",
      "}\n"
     ]
    }
   ],
   "source": [
    "import json\n",
    "completion_dict = completion.to_dict()\n",
    "print(json.dumps(completion_dict, indent=2))"
   ]
  },
  {
   "cell_type": "markdown",
   "metadata": {},
   "source": [
    "### Manage output tokens and Context\n",
    "\n",
    "- https://platform.openai.com/docs/guides/text-generation/managing-context-for-text-generation\n",
    "- https://cookbook.openai.com/examples/how_to_count_tokens_with_tiktoken"
   ]
  },
  {
   "cell_type": "code",
   "execution_count": 6,
   "metadata": {},
   "outputs": [
    {
     "data": {
      "text/plain": [
       "([83, 8251, 2488, 382, 2212, 0],\n",
       " [b't', b'ikt', b'oken', b' is', b' great', b'!'])"
      ]
     },
     "execution_count": 6,
     "metadata": {},
     "output_type": "execute_result"
    }
   ],
   "source": [
    "import tiktoken\n",
    "tokenizer = tiktoken.encoding_for_model(selectedGPTmodel)\n",
    "tokenizer.encode(\"tiktoken is great!\"), \\\n",
    "[tokenizer.decode_single_token_bytes(token) for token in [83, 8251, 2488, 382, 2212, 0]]\n"
   ]
  },
  {
   "cell_type": "code",
   "execution_count": 7,
   "metadata": {},
   "outputs": [
    {
     "name": "stdout",
     "output_type": "stream",
     "text": [
      "Warning: gpt-4o-mini may update over time. Returning num tokens assuming gpt-4o-mini-2024-07-18.\n"
     ]
    },
    {
     "data": {
      "text/plain": [
       "23"
      ]
     },
     "execution_count": 7,
     "metadata": {},
     "output_type": "execute_result"
    }
   ],
   "source": [
    "messages = [\n",
    "    {\"role\": \"system\", \"content\": \"You are a helpful assistant.\"},\n",
    "    {\"role\": \"user\", \"content\": \"Which city is China's capital?\"}\n",
    "]\n",
    "num_tokens_from_messages(messages, model=selectedGPTmodel)"
   ]
  },
  {
   "cell_type": "markdown",
   "metadata": {},
   "source": [
    "**Remove the oldest user/assistant messages until within the limit**"
   ]
  },
  {
   "cell_type": "code",
   "execution_count": 8,
   "metadata": {},
   "outputs": [],
   "source": [
    "# Function to manage context and limit tokens\n",
    "def generate_response(model, messages,tokenizer, max_output_tokens=100, max_context_tokens=3000):\n",
    "    total_tokens = num_tokens_from_messages(messages=messages, model=selectedGPTmodel)\n",
    "\n",
    "    # Truncate context if it exceeds max_context_tokens\n",
    "    while total_tokens > max_context_tokens:\n",
    "        # Remove the oldest user/assistant messages until within the limit\n",
    "        messages.pop(1)  # Popping after system message\n",
    "        total_tokens = num_tokens_from_messages(messages,selectedGPTmodel)\n",
    "\n",
    "    # Call the OpenAI API with controlled max_tokens\n",
    "    completion = client.chat.completions.create(\n",
    "        model=model,\n",
    "        messages=messages,\n",
    "        max_tokens=max_output_tokens\n",
    "    )\n",
    "\n",
    "    return completion\n",
    "\n",
    "\n",
    "\n",
    "# completion = generate_response(selectedGPTmodel, messages, \n",
    "#                                tokenizer=tokenizer,\n",
    "#                                max_output_tokens=100, max_context_tokens=3000\n",
    "#                                )\n",
    "\n",
    "# save_pickle(completion,'completion-test2.pkl')"
   ]
  },
  {
   "cell_type": "code",
   "execution_count": 9,
   "metadata": {},
   "outputs": [
    {
     "name": "stdout",
     "output_type": "stream",
     "text": [
      "ChatCompletionMessage(content=\"China's capital city is Beijing.\", refusal=None, role='assistant', function_call=None, tool_calls=None)\n"
     ]
    }
   ],
   "source": [
    "completion = load_pickle('completion-test2.pkl')\n",
    "print(completion.choices[0].message)"
   ]
  },
  {
   "cell_type": "code",
   "execution_count": 10,
   "metadata": {},
   "outputs": [
    {
     "name": "stdout",
     "output_type": "stream",
     "text": [
      "China's capital city is Beijing.\n"
     ]
    }
   ],
   "source": [
    "print(completion.choices[0].message.content)"
   ]
  },
  {
   "cell_type": "markdown",
   "metadata": {},
   "source": [
    "### Sturctured output"
   ]
  },
  {
   "cell_type": "code",
   "execution_count": 11,
   "metadata": {},
   "outputs": [],
   "source": [
    "from pydantic import BaseModel\n",
    "\n",
    "class CalendarEvent(BaseModel):\n",
    "    name: str\n",
    "    date: str\n",
    "    participants: list[str]"
   ]
  },
  {
   "cell_type": "markdown",
   "metadata": {},
   "source": [
    "```python\n",
    "completion = client.beta.chat.completions.parse(\n",
    "    model= selectedGPTmodel,\n",
    "    messages=[\n",
    "        {\"role\": \"system\", \"content\": \"Extract the event information.\"},\n",
    "        {\"role\": \"user\", \"content\": \"Alice and Bob are going to a science fair on Friday.\"},\n",
    "    ],\n",
    "    response_format=CalendarEvent,\n",
    ")\n",
    "completion_dict = completion.dict()  # Converts to a serializable dictionary\n",
    "save_pickle(completion_dict,'completion-test3.pkl')\n",
    "event = completion.choices[0].message.parsed # CalendarEvent\n",
    "event\n",
    "\n",
    "# CalendarEvent(name='Science Fair', date='Friday', participants=['Alice', 'Bob'])\n",
    "```"
   ]
  },
  {
   "cell_type": "code",
   "execution_count": 12,
   "metadata": {},
   "outputs": [
    {
     "data": {
      "text/plain": [
       "{'name': 'Science Fair', 'date': 'Friday', 'participants': ['Alice', 'Bob']}"
      ]
     },
     "execution_count": 12,
     "metadata": {},
     "output_type": "execute_result"
    }
   ],
   "source": [
    "completion_dict = load_pickle('completion-test3.pkl')\n",
    "event = completion_dict[\"choices\"][0][\"message\"][\"parsed\"]\n",
    "event"
   ]
  },
  {
   "cell_type": "code",
   "execution_count": 13,
   "metadata": {},
   "outputs": [
    {
     "data": {
      "text/plain": [
       "{'id': 'chatcmpl-AJN7XdVau6rPuQY5iLvpCBJ1ddNYx',\n",
       " 'choices': [{'finish_reason': 'stop',\n",
       "   'index': 0,\n",
       "   'logprobs': None,\n",
       "   'message': {'content': '{\"name\":\"Science Fair\",\"date\":\"Friday\",\"participants\":[\"Alice\",\"Bob\"]}',\n",
       "    'refusal': None,\n",
       "    'role': 'assistant',\n",
       "    'function_call': None,\n",
       "    'tool_calls': [],\n",
       "    'parsed': {'name': 'Science Fair',\n",
       "     'date': 'Friday',\n",
       "     'participants': ['Alice', 'Bob']}}}],\n",
       " 'created': 1729180471,\n",
       " 'model': 'gpt-4o-mini-2024-07-18',\n",
       " 'object': 'chat.completion',\n",
       " 'service_tier': None,\n",
       " 'system_fingerprint': 'fp_e2bde53e6e',\n",
       " 'usage': {'completion_tokens': 17,\n",
       "  'prompt_tokens': 92,\n",
       "  'total_tokens': 109,\n",
       "  'completion_tokens_details': {'audio_tokens': None, 'reasoning_tokens': 0},\n",
       "  'prompt_tokens_details': {'audio_tokens': None, 'cached_tokens': 0}}}"
      ]
     },
     "execution_count": 13,
     "metadata": {},
     "output_type": "execute_result"
    }
   ],
   "source": [
    "completion_dict"
   ]
  },
  {
   "cell_type": "code",
   "execution_count": null,
   "metadata": {},
   "outputs": [],
   "source": []
  }
 ],
 "metadata": {
  "kernelspec": {
   "display_name": "openai",
   "language": "python",
   "name": "python3"
  },
  "language_info": {
   "codemirror_mode": {
    "name": "ipython",
    "version": 3
   },
   "file_extension": ".py",
   "mimetype": "text/x-python",
   "name": "python",
   "nbconvert_exporter": "python",
   "pygments_lexer": "ipython3",
   "version": "3.9.20"
  }
 },
 "nbformat": 4,
 "nbformat_minor": 2
}
